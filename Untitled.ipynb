{
 "cells": [
  {
   "cell_type": "code",
   "execution_count": 89,
   "metadata": {},
   "outputs": [],
   "source": [
    "#-*coding:utf-8-*-\n",
    "import numpy as np\n",
    "import re\n",
    "import requests\n",
    "\n",
    "# GetTwoArray: get two arrays from page\n",
    "# return: array1(big array), array2(small array)\n",
    "def GetTwoTable():\n",
    "    # get html\n",
    "    url = \"http://www.shfe.com.cn/statements/delaymarket_all.html\"\n",
    "    res = requests.get(url)\n",
    "    # get data\n",
    "    reg1 = r'\">[\\w|/|\\.]*</td>|[n|d]>-*[\\d|\\.]*</fon'\n",
    "    data = [x[2:len(x) - 5] for x in re.findall(reg1, res.content)]\n",
    "    reg2 = r't\">[^ ]*<'\n",
    "    title = [x[3:len(x) - 1] for x in re.findall(reg2, res.content)]\n",
    "    # change to array\n",
    "    array1 = np.array(title[:12] + data[:len(data) - 8])\n",
    "    array2 = np.array(title[12:] + data[len(data) - 8:])\n",
    "    array1.shape = array1.size / 12, 12\n",
    "    array2.shape = array2.size / 8, 8\n",
    "    return (array1, array2)\n",
    "\n",
    "def deal_func(table1, table2): \n",
    "    #first table\n",
    "    table1_columns_name = table1[:1]    # columns name\n",
    "    table1_values = table1[1:]                       #values\n",
    "    table1_df = pd.DataFrame(table1_values, columns = table1_columns_name.tolist())   #change into dataframe\n",
    "    table1_origin = table1_df.copy()         #origin data\n",
    "    table1_df = table1_df.replace('', 0)    # replace blank with 0\n",
    "    table1_df  = table1_df .apply(pd.to_numeric, errors = 'ignore')  #change into float\n",
    "    df_sort_1 = table1_df .sort_values(by = table1_columns_name[0][2]   , ascending = False)   #sort \n",
    "    df_sort_2 = table1_df .sort_values(by = table1_columns_name[0][4]   , ascending = False)  #sort\n",
    "    \n",
    "    #second table\n",
    "    table2_columns_name = table2[0:1]    # columns name\n",
    "    table2_values = table2[1:]\n",
    "    table2_df= pd.DataFrame(table2_values,columns = table2_columns_name.tolist() ) \n",
    "    \n",
    "#     s1, s2 = metal_year(table1_origin.table1_columns_name[0])\n",
    "#     table1_insert = table1_insert.copy()\n",
    "#     table1_insert['metal'] = s1\n",
    "#     table1_insert['year']=s2\n",
    "\n",
    "    return table1_origin, df_sort_1,  df_sort_2, table2_df\n",
    "    "
   ]
  },
  {
   "cell_type": "code",
   "execution_count": null,
   "metadata": {
    "collapsed": true
   },
   "outputs": [],
   "source": []
  }
 ],
 "metadata": {
  "kernelspec": {
   "display_name": "Python 2",
   "language": "python",
   "name": "python2"
  },
  "language_info": {
   "codemirror_mode": {
    "name": "ipython",
    "version": 2
   },
   "file_extension": ".py",
   "mimetype": "text/x-python",
   "name": "python",
   "nbconvert_exporter": "python",
   "pygments_lexer": "ipython2",
   "version": "2.7.14"
  }
 },
 "nbformat": 4,
 "nbformat_minor": 2
}
